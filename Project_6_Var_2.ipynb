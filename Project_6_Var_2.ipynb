{
 "cells": [
  {
   "cell_type": "markdown",
   "metadata": {},
   "source": [
    "### Section 6. Project part,  Var2 (a messenger):\n",
    "1. Add users to a chat\n",
    "2. Find messages with some word combination\n",
    "3. Display shared chats of several users (an arbitrary number of arguments?..)\n",
    "Create a chat group (or probably a private chat) / ...\n"
   ]
  },
  {
   "cell_type": "code",
   "execution_count": 1,
   "metadata": {},
   "outputs": [],
   "source": [
    "messenger_db = {'user_name1':{'login': '@Petrov',\n",
    "                            'first_date': '2021-01-01',\n",
    "                            'gender': 'male',\n",
    "                            'age': 25,\n",
    "                            'chats': ['chat_1', 'chat_2'],\n",
    "                            'groups': ['python', 'ML', 'NLP'],\n",
    "                            'messages': ['ok', 'no', 'hello']\n",
    "                            },\n",
    "                'user_name2':{'login': '@Ivanova',\n",
    "                             'first_date': '2021-05-01',\n",
    "                             'gender': 'female',\n",
    "                             'age': 18,\n",
    "                             'chats': ['chat_1', 'chat_5'],\n",
    "                             'groups': ['dogs', 'cats'],\n",
    "                             'messages': ['ok', 'no', 'hello']\n",
    "                             },\n",
    "                'user_name3':{'login': '@Sidorov',\n",
    "                             'first_date': '2021-01-01',\n",
    "                             'gender': 'female',\n",
    "                             'age': 18,\n",
    "                             'chats': ['chat_1', 'chat_4'],\n",
    "                             'groups': ['dogs', 'cats'],\n",
    "                             'messages': ['ok', 'no', 'hello']\n",
    "                             },\n",
    "                \n",
    "                }"
   ]
  },
  {
   "cell_type": "code",
   "execution_count": 2,
   "metadata": {},
   "outputs": [
    {
     "name": "stdout",
     "output_type": "stream",
     "text": [
      "user_name1 was successfully added to the chat new_chat2\n"
     ]
    }
   ],
   "source": [
    "# Add users to a chat\n",
    "\n",
    "def add_users_to_chat(user_name, chat):\n",
    "    if chat in messenger_db[user_name]['chats']:\n",
    "        print(f'{user_name} has already been added to the chat {chat}')\n",
    "    else:\n",
    "        messenger_db[user_name]['chats'].append(chat)\n",
    "        print(f'{user_name} was successfully added to the chat {chat}')\n",
    "\n",
    "\n",
    "add_users_to_chat('user_name1', 'new_chat2')"
   ]
  },
  {
   "cell_type": "code",
   "execution_count": 3,
   "metadata": {},
   "outputs": [
    {
     "name": "stdout",
     "output_type": "stream",
     "text": [
      "['hello', 'hello', 'hello']\n"
     ]
    },
    {
     "data": {
      "text/plain": [
       "['hello', 'hello', 'hello']"
      ]
     },
     "execution_count": 3,
     "metadata": {},
     "output_type": "execute_result"
    }
   ],
   "source": [
    "# Find messages with some word combination\n",
    "\n",
    "def find_message(key_word):\n",
    "    find_messages = []\n",
    "    for user, data in messenger_db.items():\n",
    "        for message in data['messages']:\n",
    "            if key_word in message:\n",
    "                find_messages.append(message)\n",
    "    print(find_messages)\n",
    "    return find_messages\n",
    "\n",
    "\n",
    "find_message('hello')"
   ]
  },
  {
   "cell_type": "code",
   "execution_count": 4,
   "metadata": {},
   "outputs": [
    {
     "name": "stdout",
     "output_type": "stream",
     "text": [
      "{'chat_1'}\n"
     ]
    },
    {
     "data": {
      "text/plain": [
       "{'chat_1'}"
      ]
     },
     "execution_count": 4,
     "metadata": {},
     "output_type": "execute_result"
    }
   ],
   "source": [
    "# Display shared chats of several users (an arbitrary number of arguments?..) \n",
    "\n",
    "def shared_chats(*args):\n",
    "    result = set(messenger_db[args[0]]['chats'])\n",
    "    for user in args[1:]:\n",
    "        result = result.intersection(messenger_db[user]['chats'])\n",
    "    print(result)\n",
    "    return result\n",
    "\n",
    "\n",
    "shared_chats('user_name1','user_name2', 'user_name3')"
   ]
  }
 ],
 "metadata": {
  "kernelspec": {
   "display_name": "Python 3",
   "language": "python",
   "name": "python3"
  },
  "language_info": {
   "codemirror_mode": {
    "name": "ipython",
    "version": 3
   },
   "file_extension": ".py",
   "mimetype": "text/x-python",
   "name": "python",
   "nbconvert_exporter": "python",
   "pygments_lexer": "ipython3",
   "version": "3.8.5"
  }
 },
 "nbformat": 4,
 "nbformat_minor": 4
}
