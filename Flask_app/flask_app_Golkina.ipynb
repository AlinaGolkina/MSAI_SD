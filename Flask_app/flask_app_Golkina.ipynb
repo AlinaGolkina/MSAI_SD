{
 "cells": [
  {
   "cell_type": "code",
   "execution_count": 1,
   "id": "15f1db42",
   "metadata": {},
   "outputs": [],
   "source": [
    "from flask import Flask, render_template, request, redirect,  url_for\n",
    "from datetime import date\n",
    "posts = [{'author': 'Alina',\n",
    "          'title': 'Article1',\n",
    "          'content': 'First blog app',\n",
    "          'date':'01-01-01'\n",
    "         },\n",
    "         {'author': 'Ivan Ivanov',\n",
    "          'title': 'Article2',\n",
    "          'content': 'First blog app2',\n",
    "          'date':'02-02-02'\n",
    "          },\n",
    "         {'author': 'Petr petrov',\n",
    "          'title': 'Article3',\n",
    "          'content': 'First blog app3',\n",
    "          'date':'03-03-03'\n",
    "          }] "
   ]
  },
  {
   "cell_type": "code",
   "execution_count": 2,
   "id": "8e54c431",
   "metadata": {},
   "outputs": [],
   "source": [
    "app = Flask(__name__)\n",
    "\n",
    "@app.route(\"/\")\n",
    "@app.route(\"/main_page\")\n",
    "def main_page():\n",
    "    return render_template('main_page.html', posts=posts)\n",
    "\n",
    "\n",
    "@app.route(\"/post/<title>\")\n",
    "def post_page(title):\n",
    "    index = [post['title'] for post in posts].index(title)\n",
    "    return render_template('post.html', post=posts[index])\n",
    "\n",
    "\n",
    "@app.route(\"/post/new_post\", methods=['POST', 'GET'])\n",
    "def new_post():\n",
    "    d = dict()\n",
    "    if request.method == 'POST':\n",
    "        d['author'] = request.form['Author_name']\n",
    "        d['title'] = request.form['Post_title']\n",
    "        d['content'] = request.form['content']\n",
    "        d['date'] = date.today()\n",
    "        posts.append(d)\n",
    "        return redirect(url_for('main_page'))\n",
    "    else:\n",
    "        return render_template('database.html')\n",
    "   "
   ]
  },
  {
   "cell_type": "code",
   "execution_count": 3,
   "id": "2bfe4308",
   "metadata": {},
   "outputs": [
    {
     "name": "stdout",
     "output_type": "stream",
     "text": [
      " * Serving Flask app '__main__' (lazy loading)\n",
      " * Environment: production\n",
      "\u001b[31m   WARNING: This is a development server. Do not use it in a production deployment.\u001b[0m\n",
      "\u001b[2m   Use a production WSGI server instead.\u001b[0m\n",
      " * Debug mode: off\n"
     ]
    },
    {
     "name": "stderr",
     "output_type": "stream",
     "text": [
      " * Running on http://127.0.0.1:5000/ (Press CTRL+C to quit)\n"
     ]
    }
   ],
   "source": [
    "app.run()"
   ]
  }
 ],
 "metadata": {
  "kernelspec": {
   "display_name": "Python 3 (ipykernel)",
   "language": "python",
   "name": "python3"
  },
  "language_info": {
   "codemirror_mode": {
    "name": "ipython",
    "version": 3
   },
   "file_extension": ".py",
   "mimetype": "text/x-python",
   "name": "python",
   "nbconvert_exporter": "python",
   "pygments_lexer": "ipython3",
   "version": "3.7.10"
  }
 },
 "nbformat": 4,
 "nbformat_minor": 5
}
