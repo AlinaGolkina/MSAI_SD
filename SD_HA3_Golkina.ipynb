{
 "cells": [
  {
   "cell_type": "markdown",
   "metadata": {},
   "source": [
    "### 1.1 Calculate 30! (factorial of 30) using a recursive function. Provide the function code below. "
   ]
  },
  {
   "cell_type": "code",
   "execution_count": 302,
   "metadata": {},
   "outputs": [
    {
     "name": "stdout",
     "output_type": "stream",
     "text": [
      "265252859812191058636308480000000\n"
     ]
    }
   ],
   "source": [
    "def factorial(n):\n",
    "    if n == 1:\n",
    "        return n\n",
    "    else:\n",
    "        return n * factorial(n-1)\n",
    "    \n",
    "print(factorial(30))"
   ]
  },
  {
   "cell_type": "markdown",
   "metadata": {},
   "source": [
    "### 1.2 Calculate 3000! Solve the problem you face without rewriting factorial function. Provide the solution below. "
   ]
  },
  {
   "cell_type": "code",
   "execution_count": 307,
   "metadata": {},
   "outputs": [],
   "source": [
    "import sys \n",
    "sys.setrecursionlimit (4000) # we can increase the recursion limit \n",
    "\n",
    "def factorial(n):\n",
    "    if n == 1:\n",
    "        return n\n",
    "    else:\n",
    "        return n * factorial(n-1)\n",
    "    \n",
    "print(factorial(3000))"
   ]
  },
  {
   "cell_type": "markdown",
   "metadata": {},
   "source": [
    "### 1.3 What about 30000! calculation? Provide a non-recursive function and compare the answer with math.factorial one. "
   ]
  },
  {
   "cell_type": "code",
   "execution_count": 306,
   "metadata": {},
   "outputs": [],
   "source": [
    "def factorial_without_rec(n):\n",
    "    res = 1\n",
    "    for i in range(2, n + 1):\n",
    "        res = res * i\n",
    "    return res\n",
    "\n",
    "factorial_without_rec(30000)"
   ]
  },
  {
   "cell_type": "markdown",
   "metadata": {},
   "source": [
    "## Section 2. Lambda operator, map, filter, reduce functions."
   ]
  },
  {
   "cell_type": "markdown",
   "metadata": {},
   "source": [
    "### 2.1 Find most popular (chosen by more than 50% of respondents) \"sources\" of information on programming"
   ]
  },
  {
   "cell_type": "code",
   "execution_count": 5,
   "metadata": {},
   "outputs": [],
   "source": [
    "sources = [\n",
    "    {'source': 'Other online resources (videos, blogs, etc)', 'percent': 59.53},\n",
    "    {'source': 'School', 'percent': 53.59},\n",
    "    {'source': 'Books / Physical media', 'percent': 51.53},\n",
    "    {'source': 'Online Courses or Certification', 'percent': 40.39},\n",
    "    {'source': 'Online Forum', 'percent': 31.62},\n",
    "    {'source': 'Friend or family member', 'percent': 18.28},\n",
    "    {'source': 'Colleague', 'percent': 17.15},\n",
    "    {'source': 'Coding Bootcamp', 'percent': 10.24},\n",
    "]"
   ]
  },
  {
   "cell_type": "code",
   "execution_count": 6,
   "metadata": {},
   "outputs": [
    {
     "data": {
      "text/plain": [
       "['Other online resources (videos, blogs, etc)',\n",
       " 'School',\n",
       " 'Books / Physical media']"
      ]
     },
     "execution_count": 6,
     "metadata": {},
     "output_type": "execute_result"
    }
   ],
   "source": [
    "list(map(lambda x: x['source'], (filter(lambda y: y['percent'] > 50, sources))))"
   ]
  },
  {
   "cell_type": "markdown",
   "metadata": {},
   "source": [
    "### 3.1 Write a function which gets a simple string argument ('number operator number') which returns the expression value. Provide examples that you've used to check code."
   ]
  },
  {
   "cell_type": "code",
   "execution_count": 65,
   "metadata": {},
   "outputs": [
    {
     "name": "stdout",
     "output_type": "stream",
     "text": [
      "0\n",
      "8\n",
      "-5\n"
     ]
    }
   ],
   "source": [
    "print(eval('2//3'))\n",
    "\n",
    "print(eval('2**3'))\n",
    "\n",
    "print(eval('     1     -     6    '))\n"
   ]
  },
  {
   "cell_type": "markdown",
   "metadata": {},
   "source": [
    "### 4.1 - Create a retry-decorator without arguments which calls function 3 times in case the function returns None (\"@retry_if_none\") "
   ]
  },
  {
   "cell_type": "code",
   "execution_count": 66,
   "metadata": {},
   "outputs": [
    {
     "name": "stdout",
     "output_type": "stream",
     "text": [
      "foo\n",
      "foo\n",
      "foo\n",
      "bar\n"
     ]
    }
   ],
   "source": [
    "def retry_if_none(my_function):\n",
    "\n",
    "    def wrapper():\n",
    "        if my_function() == None:\n",
    "            for _ in range(2):\n",
    "                my_function()            \n",
    "    return wrapper\n",
    "\n",
    "@retry_if_none\n",
    "def foo():\n",
    "    print('foo')\n",
    "    return None\n",
    "\n",
    "@retry_if_none\n",
    "def bar():\n",
    "    print('bar')\n",
    "    return 1\n",
    "\n",
    "foo()\n",
    "bar()"
   ]
  },
  {
   "cell_type": "markdown",
   "metadata": {},
   "source": [
    "### 4.2 - Create a parameterized retry-decorator which calls function N times in case the function returns None (\"@retry_if_none(10)\") "
   ]
  },
  {
   "cell_type": "code",
   "execution_count": 67,
   "metadata": {},
   "outputs": [
    {
     "name": "stdout",
     "output_type": "stream",
     "text": [
      "foo\n",
      "foo\n",
      "foo\n",
      "foo\n",
      "foo\n",
      "foo\n",
      "foo\n",
      "foo\n",
      "foo\n",
      "foo\n",
      "bar\n"
     ]
    }
   ],
   "source": [
    "def retry_if_none(N):\n",
    "    def retry_if_none_inner(my_function):\n",
    "        def wrapper():\n",
    "            if my_function() == None:\n",
    "                for _ in range(N - 1):\n",
    "                    my_function()          \n",
    "        return wrapper\n",
    "    return  retry_if_none_inner\n",
    "\n",
    "@retry_if_none(10)\n",
    "def foo():\n",
    "    print('foo')\n",
    "    return None\n",
    "\n",
    "@retry_if_none(10)\n",
    "def bar():\n",
    "    print('bar')\n",
    "    return 1\n",
    "\n",
    "foo()\n",
    "bar()"
   ]
  },
  {
   "cell_type": "markdown",
   "metadata": {},
   "source": [
    "### 5.1 - Solve it in declarative style: provide solution based on loops"
   ]
  },
  {
   "cell_type": "code",
   "execution_count": 68,
   "metadata": {},
   "outputs": [
    {
     "name": "stdout",
     "output_type": "stream",
     "text": [
      "[[1, 2, 3, 4], [2, 4, 6, 8]]\n"
     ]
    }
   ],
   "source": [
    "def two_dim_list(n, m):\n",
    "    a = [[1 for i in range(m)] for j in range(n)]\n",
    "    for i in range(n):\n",
    "        for j in range(m):\n",
    "            a[i][j] = (i+1)*(j+1)\n",
    "    print(a)\n",
    "    \n",
    "two_dim_list(2, 4)"
   ]
  },
  {
   "cell_type": "markdown",
   "metadata": {},
   "source": [
    "### 5.2 - Solve it in functional style: one-string solution (excluding input reading) "
   ]
  },
  {
   "cell_type": "code",
   "execution_count": 70,
   "metadata": {},
   "outputs": [
    {
     "name": "stdout",
     "output_type": "stream",
     "text": [
      "2 4\n",
      "[[1, 2, 3, 4], [2, 4, 6, 8]]\n"
     ]
    }
   ],
   "source": [
    "n, m = map(int, input().split())\n",
    "print([[(i + 1) * (j + 1) for i in range(m)] for j in range(n)])"
   ]
  },
  {
   "cell_type": "markdown",
   "metadata": {},
   "source": [
    "### Section 6. Project part,  Var2 (a messenger):\n",
    "1. Add users to a chat\n",
    "2. Find messages with some word combination\n",
    "3. Display shared chats of several users (an arbitrary number of arguments?..)\n",
    "Create a chat group (or probably a private chat) / ...\n"
   ]
  },
  {
   "cell_type": "code",
   "execution_count": 297,
   "metadata": {},
   "outputs": [],
   "source": [
    "messenger_db = {'user_name1':{'login': '@Petrov',\n",
    "                            'first_date': '2021-01-01',\n",
    "                            'gender': 'male',\n",
    "                            'age': 25,\n",
    "                            'chats': ['chat_1', 'chat_2'],\n",
    "                            'groups': ['python', 'ML', 'NLP'],\n",
    "                            'messages': ['ok', 'no', 'hello']\n",
    "                            },\n",
    "                'user_name2':{'login': '@Ivanova',\n",
    "                             'first_date': '2021-05-01',\n",
    "                             'gender': 'female',\n",
    "                             'age': 18,\n",
    "                             'chats': ['chat_1', 'chat_5'],\n",
    "                             'groups': ['dogs', 'cats'],\n",
    "                             'messages': ['ok', 'no', 'hello']\n",
    "                             },\n",
    "                'user_name3':{'login': '@Sidorov',\n",
    "                             'first_date': '2021-01-01',\n",
    "                             'gender': 'female',\n",
    "                             'age': 18,\n",
    "                             'chats': ['chat_1', 'chat_4'],\n",
    "                             'groups': ['dogs', 'cats'],\n",
    "                             'messages': ['ok', 'no', 'hello']\n",
    "                             },\n",
    "                \n",
    "                }"
   ]
  },
  {
   "cell_type": "code",
   "execution_count": 298,
   "metadata": {},
   "outputs": [
    {
     "name": "stdout",
     "output_type": "stream",
     "text": [
      "user_name1 was successfully added to the chat new_chat2\n"
     ]
    }
   ],
   "source": [
    "# Add users to a chat\n",
    "\n",
    "def add_users_to_chat(user_name, chat):\n",
    "    if chat in messenger_db[user_name]['chats']:\n",
    "        print(f'{user_name} has already been added to the chat {chat}')\n",
    "    else:\n",
    "        messenger_db[user_name]['chats'].append(chat)\n",
    "        print(f'{user_name} was successfully added to the chat {chat}')\n",
    "\n",
    "\n",
    "add_users_to_chat('user_name1', 'new_chat2')"
   ]
  },
  {
   "cell_type": "code",
   "execution_count": 299,
   "metadata": {},
   "outputs": [
    {
     "name": "stdout",
     "output_type": "stream",
     "text": [
      "['hello', 'hello', 'hello']\n"
     ]
    },
    {
     "data": {
      "text/plain": [
       "['hello', 'hello', 'hello']"
      ]
     },
     "execution_count": 299,
     "metadata": {},
     "output_type": "execute_result"
    }
   ],
   "source": [
    "# Find messages with some word combination\n",
    "\n",
    "def find_message(key_word):\n",
    "    find_messages = []\n",
    "    for user, data in messenger_db.items():\n",
    "        for message in data['messages']:\n",
    "            if key_word in message:\n",
    "                find_messages.append(message)\n",
    "    print(find_messages)\n",
    "    return find_messages\n",
    "\n",
    "\n",
    "find_message('hello')"
   ]
  },
  {
   "cell_type": "code",
   "execution_count": 300,
   "metadata": {},
   "outputs": [
    {
     "name": "stdout",
     "output_type": "stream",
     "text": [
      "{'chat_1'}\n"
     ]
    },
    {
     "data": {
      "text/plain": [
       "{'chat_1'}"
      ]
     },
     "execution_count": 300,
     "metadata": {},
     "output_type": "execute_result"
    }
   ],
   "source": [
    "# Display shared chats of several users (an arbitrary number of arguments?..) \n",
    "\n",
    "def shared_chats(*args):\n",
    "    result = set(messenger_db[args[0]]['chats'])\n",
    "    for user in args[1:]:\n",
    "        result = result.intersection(messenger_db[user]['chats'])\n",
    "    print(result)\n",
    "    return result\n",
    "\n",
    "\n",
    "shared_chats('user_name1','user_name2', 'user_name3')"
   ]
  }
 ],
 "metadata": {
  "kernelspec": {
   "display_name": "Python 3",
   "language": "python",
   "name": "python3"
  },
  "language_info": {
   "codemirror_mode": {
    "name": "ipython",
    "version": 3
   },
   "file_extension": ".py",
   "mimetype": "text/x-python",
   "name": "python",
   "nbconvert_exporter": "python",
   "pygments_lexer": "ipython3",
   "version": "3.8.5"
  }
 },
 "nbformat": 4,
 "nbformat_minor": 4
}
